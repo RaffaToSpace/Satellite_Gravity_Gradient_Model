{
 "cells": [
  {
   "cell_type": "markdown",
   "metadata": {},
   "source": [
    "# Gravity Gradiometer Signal Model\n",
    "\n",
    "The purpose of this script is to estimate the signal detected by a differential gravity sensor (gravity gradiometer) for a given ground mass distribution and at a given altitude. The model is structured as follows:\n",
    "\n",
    "- Libraries and basic functions\n",
    "- Space and mass map creation\n",
    "- calculation of signal from single sensors\n",
    "- gravity maps and gravity gradient map"
   ]
  },
  {
   "cell_type": "markdown",
   "metadata": {},
   "source": [
    "## _TO DO_:\n",
    "- consider changing mass_elements, polar map, into 2D array rather than lists. I guess it is not a problem, as long as they map together. However, that gets more complicated when plotting, doing operations, etc."
   ]
  },
  {
   "cell_type": "markdown",
   "metadata": {},
   "source": [
    "## Imports"
   ]
  },
  {
   "cell_type": "code",
   "execution_count": 12,
   "metadata": {},
   "outputs": [],
   "source": [
    "import numpy as np\n",
    "import math"
   ]
  },
  {
   "cell_type": "markdown",
   "metadata": {},
   "source": [
    "## Constants and physical values"
   ]
  },
  {
   "cell_type": "code",
   "execution_count": 4,
   "metadata": {},
   "outputs": [],
   "source": [
    "Gconst = 6.67408 *10**(-11) #N⋅m2/kg2 - Gravitational constant\n",
    "densitydiff=1  # a parameter adjusting contrast between features.\n",
    "#angle=1 # angle multiplier factor\n",
    "#r =1\n",
    "\n",
    "bias = 3*10**(-6) #earth's contribution 3000 E in terms of gravity gradient\n",
    "l = 10 # lenght of map matrix element in km\n",
    "elev = 5 # matrix element height, important for the absolute quantities measured\n",
    "esd= 3000 # density of earth's surface, kg per cubic metre"
   ]
  },
  {
   "cell_type": "markdown",
   "metadata": {},
   "source": [
    "## Map Generation"
   ]
  },
  {
   "cell_type": "markdown",
   "metadata": {},
   "source": [
    "### Random mass distribution map"
   ]
  },
  {
   "cell_type": "code",
   "execution_count": 71,
   "metadata": {},
   "outputs": [],
   "source": [
    "x_size = 51 \n",
    "y_size = 401\n",
    "\"\"\"Factors specifying the dimensions of the map. Bear in mind that the map size needs to be compatible with the satellite \n",
    "path, i.e. the satellite coordinates must fall within the map coordinates domain.\"\"\"\n",
    "\n",
    "x=np.arange(0,x_size,1)\n",
    "y=np.arange(0,y_size,1)\n",
    "X,Y = np.meshgrid(x,y)\n",
    "\n",
    "#dmap=np.random.randn(len(X),len(Y)) # creating a table of random mass distribution, mean is 0, st dev 1\n",
    "dmap=np.random.randn(x_size,y_size)"
   ]
  },
  {
   "cell_type": "code",
   "execution_count": 66,
   "metadata": {},
   "outputs": [],
   "source": [
    "coordinates_map = [(a,b) for a in x for b in y] # list of tuples with coordinates pair for each element of the space matrix"
   ]
  },
  {
   "cell_type": "code",
   "execution_count": 77,
   "metadata": {},
   "outputs": [],
   "source": [
    "massmap = dmap * l**2 *elev*esd\n",
    "mass_elements = [(massmap[i][j]) for i in range(massmap.shape[0]) for j in range(massmap.shape[1])]"
   ]
  },
  {
   "cell_type": "markdown",
   "metadata": {},
   "source": [
    "### Map export"
   ]
  },
  {
   "cell_type": "code",
   "execution_count": 7,
   "metadata": {},
   "outputs": [],
   "source": [
    "np.savetxt('maps/random_massmap.txt', massmap)"
   ]
  },
  {
   "cell_type": "markdown",
   "metadata": {},
   "source": [
    "## Map import\n",
    "\n",
    "A map matrix can be imported from file, if generated independently."
   ]
  },
  {
   "cell_type": "code",
   "execution_count": null,
   "metadata": {},
   "outputs": [],
   "source": []
  },
  {
   "cell_type": "markdown",
   "metadata": {},
   "source": [
    "## Satellite positions"
   ]
  },
  {
   "cell_type": "code",
   "execution_count": 8,
   "metadata": {},
   "outputs": [],
   "source": [
    "altitude = 200 # km\n",
    "#satellite location\n",
    "xs = 50\n",
    "ys = 50\n",
    "x_range=np.arange(xs-10,xs+11,2)\n",
    "y_range=np.arange(xs-10,xs+12,2)"
   ]
  },
  {
   "cell_type": "code",
   "execution_count": 33,
   "metadata": {},
   "outputs": [],
   "source": [
    "satellite_positions = [(x,y) for x in x_range for y in y_range]"
   ]
  },
  {
   "cell_type": "markdown",
   "metadata": {},
   "source": [
    "## Gravity Signal Function"
   ]
  },
  {
   "cell_type": "code",
   "execution_count": 10,
   "metadata": {},
   "outputs": [],
   "source": [
    "G_meas_survey=np.empty([len(x_range),len(y_range)])  \n",
    "# initialisation of an empty array, to be populated with gravity measurements"
   ]
  },
  {
   "cell_type": "code",
   "execution_count": 50,
   "metadata": {},
   "outputs": [],
   "source": [
    "def polar_coordinates(x_i,y_i,x_s,y_s,altitude):\n",
    "    \"\"\"\n",
    "    x_s,y_s : satellite reference position\n",
    "    x_i,y_i : map location of interest\n",
    "    altitude : satellite altitude  \n",
    "    r,angle : coordinates of the map location with respect to the satellite, in polar geometry.\n",
    "    \"\"\"\n",
    "    \n",
    "    ground_dist = math.sqrt(abs(x_i-xs)**2 + abs(y_i-ys)**2) * l\n",
    "    r = math.sqrt(altitude**2 + ground_dist**2)\n",
    "    angle = math.atan(ground_dist/altitude)\n",
    "    \n",
    "    return r,angle\n",
    "\n",
    "def polar_map(coordinates_map,x_s,y_s,altitude):\n",
    "    \"\"\"\n",
    "    function returning a list of tuples each made of\n",
    "    (radial distance, angle)\n",
    "    with respect to a satellite position\n",
    "    \"\"\"\n",
    "    pol_map = [polar_coordinates(xy[0],xy[1],x_s,y_s,altitude) for xy in coordinates_map]\n",
    "    return pol_map\n",
    "\n",
    "\n",
    "def gravity_force_1D(Gconst,mass_elements,pol_map):\n",
    "\n",
    "    #g_obj=math.cos(angle)*Gconst*mass/r**2 #to be verified\n",
    "    \n",
    "    G_force_map = [math.cos(pols[1])*Gconst*mass/pols[0]**2 for pols in pol_map for mass in mass_elements]  \n",
    "    \"\"\"\n",
    "    the problem is, this is a list. Is this going to work ok? do I need to convert into 2D array?\n",
    "    \"\"\""
   ]
  },
  {
   "cell_type": "code",
   "execution_count": 56,
   "metadata": {},
   "outputs": [],
   "source": [
    "pm=polar_map(coordinates_map,50,50,altitude)"
   ]
  },
  {
   "cell_type": "code",
   "execution_count": 64,
   "metadata": {},
   "outputs": [
    {
     "data": {
      "text/plain": [
       "20451"
      ]
     },
     "execution_count": 64,
     "metadata": {},
     "output_type": "execute_result"
    }
   ],
   "source": [
    "len(pm)"
   ]
  },
  {
   "cell_type": "code",
   "execution_count": null,
   "metadata": {},
   "outputs": [],
   "source": []
  }
 ],
 "metadata": {
  "kernelspec": {
   "display_name": "Python 3",
   "language": "python",
   "name": "python3"
  },
  "language_info": {
   "codemirror_mode": {
    "name": "ipython",
    "version": 3
   },
   "file_extension": ".py",
   "mimetype": "text/x-python",
   "name": "python",
   "nbconvert_exporter": "python",
   "pygments_lexer": "ipython3",
   "version": "3.7.6"
  }
 },
 "nbformat": 4,
 "nbformat_minor": 4
}
