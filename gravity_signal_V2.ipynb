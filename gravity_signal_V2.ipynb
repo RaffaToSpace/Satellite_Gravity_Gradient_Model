{
 "cells": [
  {
   "cell_type": "markdown",
   "metadata": {},
   "source": [
    "# Gravity Gradiometer Signal Model\n",
    "\n",
    "The purpose of this script is to estimate the signal detected by a differential gravity sensor (gravity gradiometer) for a given ground mass distribution and at a given altitude. The model is structured as follows:\n",
    "\n",
    "- Libraries and basic functions\n",
    "- Space and mass map creation\n",
    "- calculation of signal from single sensors\n",
    "- gravity maps and gravity gradient map"
   ]
  },
  {
   "cell_type": "markdown",
   "metadata": {},
   "source": [
    "## _TO DO_:\n",
    "- Map builder\n",
    "- satellite locations filler\n",
    "- bug: values in matrices e.g. grav_map_first are all the same"
   ]
  },
  {
   "cell_type": "markdown",
   "metadata": {},
   "source": [
    "## Imports"
   ]
  },
  {
   "cell_type": "code",
   "execution_count": 15,
   "metadata": {},
   "outputs": [],
   "source": [
    "import matplotlib\n",
    "import math\n",
    "import numpy as np\n",
    "import matplotlib.cm as cm\n",
    "import matplotlib.pyplot as plt"
   ]
  },
  {
   "cell_type": "markdown",
   "metadata": {},
   "source": [
    "## Constants and physical values"
   ]
  },
  {
   "cell_type": "code",
   "execution_count": 109,
   "metadata": {},
   "outputs": [],
   "source": [
    "Gconst = 6.67408 *10**(-11) #N⋅m2/kg2 - Gravitational constant\n",
    "densitydiff=1  # a parameter adjusting contrast between features.\n",
    "#angle=1 # angle multiplier factor\n",
    "#r =1\n",
    "\n",
    "bias = 3*10**(-6) #earth's contribution 3000 E in terms of gravity gradient\n",
    "l = 10 # lenght of map matrix element in km\n",
    "elev = 5 # matrix element height, important for the absolute quantities measured, basically a mass multiplier.\n",
    "esd= 1.6*10**12 # density of earth's surface, kg per cubic km"
   ]
  },
  {
   "cell_type": "markdown",
   "metadata": {},
   "source": [
    "## Map Generation"
   ]
  },
  {
   "cell_type": "markdown",
   "metadata": {},
   "source": [
    "### Random mass distribution map"
   ]
  },
  {
   "cell_type": "code",
   "execution_count": 110,
   "metadata": {},
   "outputs": [],
   "source": [
    "x_size = 401\n",
    "y_size = 401\n",
    "\"\"\"Factors specifying the dimensions of the map. Bear in mind that the map size needs to be compatible with the satellite \n",
    "path, i.e. the satellite coordinates must fall within the map coordinates domain.\"\"\"\n",
    "\n",
    "x=np.arange(0,x_size,1)\n",
    "y=np.arange(0,y_size,1)\n",
    "X,Y = np.meshgrid(x,y)\n",
    "\n",
    "#dmap=np.random.randn(len(X),len(Y)) # creating a table of random mass distribution, mean is 0, st dev 1\n",
    "dmap=np.random.randn(x_size,y_size)"
   ]
  },
  {
   "cell_type": "code",
   "execution_count": 111,
   "metadata": {},
   "outputs": [],
   "source": [
    "coordinates_map = [[[a,b] for b in y ]for a in x] # list of tuples with coordinates pair for each element of the space matrix\n",
    "coordinates_map_array = np.array(coordinates_map)"
   ]
  },
  {
   "cell_type": "code",
   "execution_count": 112,
   "metadata": {},
   "outputs": [],
   "source": [
    "massmap = dmap * l**2 *elev*esd\n",
    "#mass_elements = [(massmap[i][j]) for i in range(massmap.shape[0]) for j in range(massmap.shape[1])]"
   ]
  },
  {
   "cell_type": "markdown",
   "metadata": {},
   "source": [
    "### Map export"
   ]
  },
  {
   "cell_type": "code",
   "execution_count": 113,
   "metadata": {},
   "outputs": [],
   "source": [
    "np.savetxt('maps/random_massmap.txt', massmap)"
   ]
  },
  {
   "cell_type": "markdown",
   "metadata": {},
   "source": [
    "## Map import\n",
    "\n",
    "A map matrix can be imported from file, if generated independently."
   ]
  },
  {
   "cell_type": "code",
   "execution_count": null,
   "metadata": {},
   "outputs": [],
   "source": []
  },
  {
   "cell_type": "markdown",
   "metadata": {},
   "source": [
    "## Satellite positions\n",
    "### Manual setting"
   ]
  },
  {
   "cell_type": "code",
   "execution_count": 114,
   "metadata": {},
   "outputs": [],
   "source": [
    "altitude = 200 # km\n",
    "baseline = 0.01 # i.e. 0.001 = 1 m\n",
    "#satellite reference location\n",
    "xs = 200\n",
    "ys = 200\n",
    "x_range=np.arange(xs-100,xs+101,20)\n",
    "y_range=np.arange(xs-100,xs+101,20)\n",
    "satellite_positions = [(x,y) for x in x_range for y in y_range]"
   ]
  },
  {
   "cell_type": "markdown",
   "metadata": {},
   "source": [
    "### Automatic and even-spaced calculation of satellite positions\n",
    "By setting the number of positions on each axis the function generates a list of coordinates."
   ]
  },
  {
   "cell_type": "code",
   "execution_count": null,
   "metadata": {},
   "outputs": [],
   "source": []
  },
  {
   "cell_type": "markdown",
   "metadata": {},
   "source": [
    "## Gravity Signal Function"
   ]
  },
  {
   "cell_type": "code",
   "execution_count": 115,
   "metadata": {},
   "outputs": [],
   "source": [
    "G_meas_survey=np.empty([len(x_range),len(y_range)])  \n",
    "# initialisation of an empty array, to be populated with gravity measurements"
   ]
  },
  {
   "cell_type": "code",
   "execution_count": 116,
   "metadata": {},
   "outputs": [],
   "source": [
    "def polar_coordinates(x_i,y_i,x_s,y_s,altitude):\n",
    "    \"\"\"\n",
    "    x_s,y_s : satellite reference position\n",
    "    x_i,y_i : map location of interest\n",
    "    altitude : satellite altitude  \n",
    "    r,angle : coordinates of the map location with respect to the satellite, in polar geometry.\n",
    "    \"\"\"\n",
    "    \n",
    "    ground_dist = math.sqrt(abs(x_i-xs)**2 + abs(y_i-ys)**2) * l\n",
    "    r = math.sqrt(altitude**2 + ground_dist**2)\n",
    "    angle = math.atan(ground_dist/altitude)\n",
    "    \n",
    "    return r,angle\n",
    "\n",
    "def polar_map(coordinates_map,x_s,y_s,altitude):\n",
    "    \"\"\"\n",
    "    function returning a list of tuples each made of\n",
    "    (radial distance, angle)\n",
    "    with respect to a satellite position\n",
    "    \"\"\"\n",
    "    #coordinates_map = [[[a,b] for b in y ]for a in x]  x size 51, y size 401\n",
    "    pol_map = np.array([[polar_coordinates(coordinates_map[i][j][0],coordinates_map[i][j][1],x_s,y_s,altitude) \n",
    "                         for j in range(len(coordinates_map[0]))] for i in range(len(coordinates_map))])\n",
    "    return pol_map\n",
    "\n",
    "\n",
    "def gravity_force_1D(Gconst,mass_map,pol_map):\n",
    "\n",
    "    #g_obj=math.cos(angle)*Gconst*mass/r**2 #to be verified\n",
    "    \n",
    "    G_force_map = [[math.cos(pol_map[i][j][1])*Gconst*mass_map[i][j]/pol_map[i][j][0]**2 for j in range(len(mass_map[0]))] for i in range(len(mass_map))]  \n",
    "    \"\"\"\n",
    "    iterate the formula over mass map and polar coordinates.\n",
    "    Each element represents the contribution to the gravity force from a single mass map matrix element. The sum is the total force\n",
    "    \"\"\"\n",
    "    G_force_map = np.array(G_force_map)\n",
    "    grav_pull=sum(sum(G_force_map))\n",
    "    return grav_pull,G_force_map"
   ]
  },
  {
   "cell_type": "markdown",
   "metadata": {},
   "source": [
    "### Function to get dictionary of polar maps by satellite location"
   ]
  },
  {
   "cell_type": "code",
   "execution_count": 117,
   "metadata": {},
   "outputs": [],
   "source": [
    "def pm_dict_maker(coordinates_map,sat_positions,altitude):\n",
    "    pm_dict = {coord : polar_map(coordinates_map,coord[0],coord[1],altitude) for coord in sat_positions}\n",
    "    return pm_dict"
   ]
  },
  {
   "cell_type": "markdown",
   "metadata": {},
   "source": [
    "## Signal Calculation and final result"
   ]
  },
  {
   "cell_type": "code",
   "execution_count": null,
   "metadata": {},
   "outputs": [],
   "source": []
  },
  {
   "cell_type": "markdown",
   "metadata": {},
   "source": [
    "### First satellite"
   ]
  },
  {
   "cell_type": "code",
   "execution_count": 118,
   "metadata": {},
   "outputs": [],
   "source": [
    "# satellite locations corresponding dictionary of polar maps\n",
    "pm_set_first=pm_dict_maker(coordinates_map,satellite_positions,altitude)\n",
    "# line below generates a dictionary of measurements per satellite location set\n",
    "grav_map_first = {loc: gravity_force_1D(Gconst,massmap,pm_set_first[loc])[0] for loc in pm_set_first}"
   ]
  },
  {
   "cell_type": "code",
   "execution_count": 119,
   "metadata": {},
   "outputs": [],
   "source": [
    "GM_first = {'x':[],'y':[],'grav_pull':[]}\n",
    "for coord,grav in grav_map_first.items():\n",
    "    GM_first['x'].append(coord[0])\n",
    "    GM_first['y'].append(coord[1])\n",
    "    GM_first['grav_pull'].append(grav)"
   ]
  },
  {
   "cell_type": "code",
   "execution_count": 120,
   "metadata": {},
   "outputs": [],
   "source": [
    "GM_first_matrix={}\n",
    "GM_first_matrix['x'] = np.unique(GM_first['x'])\n",
    "GM_first_matrix['y'] = np.unique(GM_first['y'])\n",
    "GM_first_matrix['grav_pull']= np.empty([len(GM_first_matrix['x']),len(GM_first_matrix['y'])])\n",
    "\n",
    "for i in range(len(GM_first_matrix['x'])):\n",
    "    for j in range(len(GM_first_matrix['y'])):\n",
    "        GM_first_matrix['grav_pull'][i][j] = grav_map_first[(GM_first_matrix['x'][i],GM_first_matrix['y'][j])]"
   ]
  },
  {
   "cell_type": "markdown",
   "metadata": {},
   "source": [
    "### Second satellite"
   ]
  },
  {
   "cell_type": "code",
   "execution_count": 121,
   "metadata": {},
   "outputs": [],
   "source": [
    "altitude_s = altitude + baseline\n",
    "pm_set_second=pm_dict_maker(coordinates_map,satellite_positions,altitude_s)\n",
    "grav_map_second = {loc: gravity_force_1D(Gconst,massmap,pm_set_second[loc])[0] for loc in pm_set_second}"
   ]
  },
  {
   "cell_type": "code",
   "execution_count": 122,
   "metadata": {},
   "outputs": [],
   "source": [
    "GM_second = {'x':[],'y':[],'grav_pull':[]}\n",
    "for coord,grav in grav_map_second.items():\n",
    "    GM_second['x'].append(coord[0])\n",
    "    GM_second['y'].append(coord[1])\n",
    "    GM_second['grav_pull'].append(grav)"
   ]
  },
  {
   "cell_type": "code",
   "execution_count": 123,
   "metadata": {},
   "outputs": [],
   "source": [
    "GM_second_matrix={}\n",
    "GM_second_matrix['x'] = np.unique(GM_second['x'])\n",
    "GM_second_matrix['y'] = np.unique(GM_second['y'])\n",
    "GM_second_matrix['grav_pull']= np.empty([len(GM_second_matrix['x']),len(GM_second_matrix['y'])])\n",
    "\n",
    "for i in range(len(GM_second_matrix['x'])):\n",
    "    for j in range(len(GM_second_matrix['y'])):\n",
    "        GM_second_matrix['grav_pull'][i][j] = grav_map_second[(GM_second_matrix['x'][i],GM_second_matrix['y'][j])]"
   ]
  },
  {
   "cell_type": "markdown",
   "metadata": {},
   "source": [
    "### Gradient calculation"
   ]
  },
  {
   "cell_type": "code",
   "execution_count": 124,
   "metadata": {},
   "outputs": [],
   "source": [
    "gradient_map = {loc:(grav_map_first[loc]-grav_map_second[loc])/baseline for loc in pm_set_first}"
   ]
  },
  {
   "cell_type": "code",
   "execution_count": 125,
   "metadata": {},
   "outputs": [],
   "source": [
    "GM_gradient = {'x':[],'y':[],'grav_grad':[]}\n",
    "for coord,grav in gradient_map.items():\n",
    "    GM_gradient['x'].append(coord[0])\n",
    "    GM_gradient['y'].append(coord[1])\n",
    "    GM_gradient['grav_grad'].append(grav)"
   ]
  },
  {
   "cell_type": "code",
   "execution_count": 126,
   "metadata": {},
   "outputs": [],
   "source": [
    "GM_gradient_matrix={}\n",
    "GM_gradient_matrix['x'] = np.unique(GM_gradient['x'])\n",
    "GM_gradient_matrix['y'] = np.unique(GM_gradient['y'])\n",
    "GM_gradient_matrix['grav_pull']= np.empty([len(GM_gradient_matrix['x']),len(GM_gradient_matrix['y'])])\n",
    "\n",
    "for i in range(len(GM_gradient_matrix['x'])):\n",
    "    for j in range(len(GM_gradient_matrix['y'])):\n",
    "        GM_gradient_matrix['grav_pull'][i][j] = gradient_map[(GM_gradient_matrix['x'][i],GM_gradient_matrix['y'][j])]"
   ]
  },
  {
   "cell_type": "markdown",
   "metadata": {},
   "source": [
    "# Plots"
   ]
  },
  {
   "cell_type": "code",
   "execution_count": 127,
   "metadata": {},
   "outputs": [
    {
     "data": {
      "image/png": "[encoded data removed]",
      "text/plain": [
       "<Figure size 432x288 with 2 Axes>"
      ]
     },
     "metadata": {
      "needs_background": "light"
     },
     "output_type": "display_data"
    }
   ],
   "source": [
    "# first satellite\n",
    "fig, ax = plt.subplots()\n",
    "cs = ax.contourf(GM_first_matrix['x'], GM_first_matrix['y'], GM_first_matrix['grav_pull'])\n",
    "cbar = fig.colorbar(cs)\n",
    "plt.xlabel('x [km]')\n",
    "plt.ylabel('y [km]')\n",
    "cbar.set_label('Gravity pull [m/s^2]')\n",
    "plt.show()"
   ]
  },
  {
   "cell_type": "code",
   "execution_count": 128,
   "metadata": {},
   "outputs": [
    {
     "data": {
      "image/png": "[encoded data removed]",
      "text/plain": [
       "<Figure size 432x288 with 2 Axes>"
      ]
     },
     "metadata": {
      "needs_background": "light"
     },
     "output_type": "display_data"
    }
   ],
   "source": [
    "# second satellite\n",
    "fig, ax = plt.subplots()\n",
    "cs = ax.contourf(GM_second_matrix['x'], GM_second_matrix['y'], GM_second_matrix['grav_pull'])\n",
    "cbar = fig.colorbar(cs)\n",
    "plt.xlabel('x [km]')\n",
    "plt.ylabel('y [km]')\n",
    "cbar.set_label('Gravity pull [m/s^2]')\n",
    "plt.show()"
   ]
  },
  {
   "cell_type": "code",
   "execution_count": 129,
   "metadata": {},
   "outputs": [
    {
     "data": {
      "image/png": "[encoded data removed]",
      "text/plain": [
       "<Figure size 432x288 with 2 Axes>"
      ]
     },
     "metadata": {
      "needs_background": "light"
     },
     "output_type": "display_data"
    }
   ],
   "source": [
    "# gradient\n",
    "fig, ax = plt.subplots()\n",
    "cs = ax.contourf(GM_gradient_matrix['x'], GM_gradient_matrix['y'], GM_gradient_matrix['grav_pull'])\n",
    "#vmin=GM_gradient_matrix['grav_pull'].min, vmax=GM_gradient_matrix['grav_pull'].max\n",
    "cbar = fig.colorbar(cs)\n",
    "plt.xlabel('x [km]')\n",
    "plt.ylabel('y [km]')\n",
    "cbar.set_label('Gravity pull [m/s^2]')\n",
    "plt.show()"
   ]
  },
  {
   "cell_type": "markdown",
   "metadata": {},
   "source": [
    "## _Testing functions_"
   ]
  },
  {
   "cell_type": "code",
   "execution_count": 17,
   "metadata": {},
   "outputs": [],
   "source": [
    "pm=polar_map(coordinates_map_array,50,50,altitude)"
   ]
  },
  {
   "cell_type": "code",
   "execution_count": 22,
   "metadata": {},
   "outputs": [],
   "source": [
    "grav_pull,GM = gravity_force_1D(Gconst,massmap,pm)"
   ]
  },
  {
   "cell_type": "code",
   "execution_count": 39,
   "metadata": {},
   "outputs": [
    {
     "data": {
      "image/png": "[encoded data removed]",
      "text/plain": [
       "<Figure size 432x288 with 2 Axes>"
      ]
     },
     "metadata": {
      "needs_background": "light"
     },
     "output_type": "display_data"
    }
   ],
   "source": [
    "fig, ax = plt.subplots()\n",
    "cs = ax.contourf(y, x, GM)\n",
    "cbar = fig.colorbar(cs)\n",
    "plt.xlabel('y [km]')\n",
    "plt.ylabel('x [km]')\n",
    "cbar.set_label('Gravity pull [m/s^2]')\n",
    "plt.show()"
   ]
  },
  {
   "cell_type": "code",
   "execution_count": null,
   "metadata": {},
   "outputs": [],
   "source": []
  }
 ],
 "metadata": {
  "kernelspec": {
   "display_name": "Python 3",
   "language": "python",
   "name": "python3"
  },
  "language_info": {
   "codemirror_mode": {
    "name": "ipython",
    "version": 3
   },
   "file_extension": ".py",
   "mimetype": "text/x-python",
   "name": "python",
   "nbconvert_exporter": "python",
   "pygments_lexer": "ipython3",
   "version": "3.7.6"
  }
 },
 "nbformat": 4,
 "nbformat_minor": 4
}
